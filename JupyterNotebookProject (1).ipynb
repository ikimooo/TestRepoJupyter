{
 "cells": [
  {
   "cell_type": "markdown",
   "id": "05f308f7-13c0-497b-b351-bcddb3271662",
   "metadata": {
    "tags": []
   },
   "source": [
    "# **My Jupyter Notebook on IBM Watson Studio**"
   ]
  },
  {
   "cell_type": "markdown",
   "id": "745f7649-14c8-43ee-9743-a8dd1bb6dc32",
   "metadata": {},
   "source": [
    "**Alvaro Muñoz**"
   ]
  },
  {
   "cell_type": "markdown",
   "id": "3302703d-6bfa-477c-b000-802d8b23ee86",
   "metadata": {},
   "source": [
    "My desired occupation would be as data analyst for music streaming platforms"
   ]
  },
  {
   "cell_type": "markdown",
   "id": "f334ddf8-17d0-41c0-9fc7-19b234fb7fb3",
   "metadata": {},
   "source": [
    "*I got into data science because it provides people with tools to analyze and understand cultural and market trends*"
   ]
  },
  {
   "cell_type": "markdown",
   "id": "cd8d5ca7-1716-4de1-a5b3-e4826ba8af14",
   "metadata": {},
   "source": [
    "### **This code finds the minimun value in a list and prints it**"
   ]
  },
  {
   "cell_type": "code",
   "execution_count": 13,
   "id": "85ec4bb1-ae48-403b-be3f-57e1b88de803",
   "metadata": {},
   "outputs": [
    {
     "name": "stdout",
     "output_type": "stream",
     "text": [
      "min: -3\n"
     ]
    }
   ],
   "source": [
    "list=[12, 5, 8, -3]\n",
    "\n",
    "minVal = list[0]\n",
    "\n",
    "for i in range (0, len(list),1) :\n",
    "    minVal = min(minVal, list[i])\n",
    "    \n",
    "print (\"min:\",minVal)"
   ]
  },
  {
   "cell_type": "markdown",
   "id": "4a86736e-7bc3-44c4-b217-948da8e0da11",
   "metadata": {},
   "source": [
    "**This**    | **is**     | **a**     |  **list**   \n",
    "------------|:----------:|:---------:|-----------:|\n",
    "And         |  these     | are       | numbers  \n",
    "~~1~~       |   ~~4~~      |  ~~6~~       |      ~~7~~"
   ]
  },
  {
   "cell_type": "markdown",
   "id": "812461cb-0e80-40ba-9fdc-3171d3748a9f",
   "metadata": {},
   "source": [
    "1. **Ordered**\n",
    "2. **list**\n",
    "3. **for**\n",
    "4. **testing**"
   ]
  },
  {
   "cell_type": "markdown",
   "id": "7aedabd3-22f9-445d-b57d-9f9537ab9be0",
   "metadata": {},
   "source": [
    "[Some hyperlink](https://www.google.com/search?q=chinese+new+year&oq=chinese+new+year&aqs=chrome.0.69i59j0i131i433i512j0i67j0i131i433i512l2j0i131i433j0i512j69i60.3578j0j7&sourceid=chrome&ie=UTF-8)"
   ]
  },
  {
   "cell_type": "markdown",
   "id": "45449376-319b-4fa8-8185-aa372ad719f3",
   "metadata": {},
   "source": [
    "> **Happy 2023 everyone**"
   ]
  }
 ],
 "metadata": {
  "kernelspec": {
   "display_name": "Python 3 (ipykernel)",
   "language": "python",
   "name": "python3"
  },
  "language_info": {
   "codemirror_mode": {
    "name": "ipython",
    "version": 3
   },
   "file_extension": ".py",
   "mimetype": "text/x-python",
   "name": "python",
   "nbconvert_exporter": "python",
   "pygments_lexer": "ipython3",
   "version": "3.9.13"
  }
 },
 "nbformat": 4,
 "nbformat_minor": 5
}
